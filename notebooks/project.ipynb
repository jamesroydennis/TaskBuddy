{
 "cells": [
  {
   "cell_type": "markdown",
   "id": "5643bc52",
   "metadata": {},
   "source": [
    "# TaskBuddy: Intelligent Voice Memo Task Manager - Project Overview\n",
    "\n",
    "Welcome to the **TaskBuddy** project! This notebook serves as the high-level table of contents and an architectural guide for our intelligent voice memo task manager.\n",
    "\n",
    "TaskBuddy is being built with a strong emphasis on clean architecture, **SOLID principles**, **Test-Driven Development (TDD)**, and robust **Dependency Injection (DI)**. Our goal is to create a task management system that goes beyond conventional tools by leveraging AI to understand and organize tasks based on individual user's language and habits.\n",
    "\n",
    "Use this notebook as your entry point to understand the project's structure, its core components, and how each layer contributes to the overall vision."
   ]
  },
  {
   "cell_type": "code",
   "execution_count": null,
   "id": "99f3c10a",
   "metadata": {},
   "outputs": [],
   "source": [
    "import sys\n",
    "import os\n",
    "import logging\n",
    "\n",
    "# Set up logging for this notebook session (using dev mode for verbose output)\n",
    "# Add the project root to the Python path to allow importing modules\n",
    "# This assumes the notebook is in 'taskbuddy_project/notebooks/'\n",
    "project_root = os.path.abspath(os.path.join(os.getcwd(), '..'))\n",
    "if project_root not in sys.path:\n",
    "    sys.path.append(project_root)\n",
    "\n",
    "from config.logging_setup import setup_logging\n",
    "from config.config import DEBUG_MODE\n",
    "\n",
    "setup_logging(debug_mode_override='dev') # Configure logging for 'dev' mode\n",
    "\n",
    "logger = logging.getLogger(__name__)\n",
    "\n",
    "logger.info(\"Notebook environment initialized. Project modules are now importable.\")\n",
    "print(f\"Python interpreter: {sys.executable}\")\n",
    "print(f\"Current working directory: {os.getcwd()}\")\n",
    "print(f\"Project root added to PATH: {project_root}\")\n",
    "print(f\"Running in DEBUG_MODE: {DEBUG_MODE}\")\n",
    "\n",
    "# A simple check to ensure a core module can be imported\n",
    "try:\n",
    "    from business.task import Task\n",
    "    logger.info(\"Successfully imported 'business.task.Task'. Core modules are accessible.\")\n",
    "except ImportError as e:\n",
    "    logger.error(f\"Failed to import core module: {e}. Check PYTHONPATH or environment activation.\")"
   ]
  },
  {
   "cell_type": "markdown",
   "id": "31d5f3b6",
   "metadata": {},
   "source": [
    "---\n",
    "## Project Structure and Layers\n",
    "\n",
    "This project is organized into distinct architectural layers, each with its own responsibilities. Click on the links below to navigate to the detailed documentation notebooks for each section.\n",
    "\n",
    "* [**1. Data Layer Overview**](01_Data_Layer_Overview.ipynb)\n",
    "    * _Focus:_ How task data is stored, retrieved, and managed (e.g., CSV, database interactions).\n",
    "    * _Key Components:_ `CsvTaskRepository`, `sample_data.csv`.\n",
    "\n",
    "* [**2. Business Layer Overview**](02_Business_Layer_Overview.ipynb)\n",
    "    * _Focus:_ The core logic of the TaskBuddy application, independent of data storage or UI.\n",
    "    * _Key Components:_ `TaskManagerService`, `Task` model, `ITaskRepository` interface.\n",
    "\n",
    "* [**3. Core Infrastructure**](03_Core_Infrastructure.ipynb)\n",
    "    * _Focus:_ Foundational services and architectural patterns like Dependency Injection and Logging.\n",
    "    * _Key Components:_ `DependencyContainer`, `logging_setup`.\n",
    "\n",
    "* [**4. User Interface (UI) Layer**](04_UI_Layer_Overview.ipynb)\n",
    "    * _Focus:_ How users interact with TaskBuddy (e.g., CLI, Web App, Mobile App).\n",
    "    * _Key Components:_ (To be developed)\n",
    "\n",
    "* [**5. AI & Voice Memo Features**](05_AI_Voice_Memo_Features.ipynb)\n",
    "    * _Focus:_ Integration of voice memo recording, AI parsing for categorization, and intelligent output.\n",
    "    * _Key Components:_ (To be developed)\n",
    "\n",
    "* [**6. Testing Strategy**](06_Testing_Strategy.ipynb)\n",
    "    * _Focus:_ In-depth look at our Test-Driven Development (TDD) approach and testing utilities.\n",
    "    * _Key Components:_ `pytest`, test fixtures.\n",
    "\n",
    "---"
   ]
  }
 ],
 "metadata": {
  "language_info": {
   "name": "python"
  }
 },
 "nbformat": 4,
 "nbformat_minor": 5
}
